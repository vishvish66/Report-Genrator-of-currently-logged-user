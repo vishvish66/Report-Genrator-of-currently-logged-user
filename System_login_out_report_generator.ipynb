{
  "nbformat": 4,
  "nbformat_minor": 0,
  "metadata": {
    "colab": {
      "name": "System login-out report generator.ipynb",
      "provenance": [],
      "collapsed_sections": [],
      "authorship_tag": "ABX9TyMf0mTrecKydDRZabekUIDG",
      "include_colab_link": true
    },
    "kernelspec": {
      "name": "python3",
      "display_name": "Python 3"
    },
    "accelerator": "TPU"
  },
  "cells": [
    {
      "cell_type": "markdown",
      "metadata": {
        "id": "view-in-github",
        "colab_type": "text"
      },
      "source": [
        "<a href=\"https://colab.research.google.com/github/vishvish66/Report-Genrator-of-currently-logged-user/blob/master/System_login_out_report_generator.ipynb\" target=\"_parent\"><img src=\"https://colab.research.google.com/assets/colab-badge.svg\" alt=\"Open In Colab\"/></a>"
      ]
    },
    {
      "cell_type": "code",
      "metadata": {
        "id": "_Ai5kKQPmLoW",
        "colab_type": "code",
        "colab": {
          "base_uri": "https://localhost:8080/",
          "height": 68
        },
        "outputId": "9d3ee1bc-7487-4adb-94c8-72ca9ad3a20e"
      },
      "source": [
        "#Imagine that you're an IT specialist working in a medium-sized company, your manager wants to create a daily report that tracks the use of machines. \n",
        "#Specifically, she wants to know which users are currently connected to which machines, it's your job to create the report. \n",
        "#In your company, there's a system that collects every event that happens on the machines on the network. \n",
        "#Among the many events collected it records each time a user logs in or out of a computer. \n",
        "#With this information, we want to write a script that generates a report of which users are logged in to which machines at that time.\n",
        "\n",
        "#or\n",
        "\n",
        "#We need to process a list of Event objects using their attributes to generate a report that lists all users currently logged in to the machines.\n",
        "\n",
        "def get_event_date(event):\n",
        "  return event.date  #using this funct. as parameter to the sort funct. to short list\n",
        "\n",
        "def current_users(events): #proccesing function # 1 : defining function\n",
        "  events.sort(key=get_event_date) #sorting events by using sort method and passing the funct. get_event_date as key\n",
        "  machines  = {} #creating dictonery where we will store names and user of machine\n",
        "  #now we will itrate through our list of events\n",
        "  for event in events:\n",
        "    #check if the machine affected by this event is in the dictionary\n",
        "    #if not we will add empty set as an value\n",
        "    if event.machine not in machines:\n",
        "      machines[event.machine] = set()\n",
        "    #for login event we will add uset to the list\n",
        "    if event.type == \"login\": \n",
        "      machines[event.machine].add(event.user) #add method to add user when user log in to the system\n",
        "    #for logout event we will remove user from list\n",
        "    elif event.type == \"logout\":\n",
        "      machines[event.machine].remove(event.user) #remove method to remove user from list when user log out\n",
        "  return machines #dictionary will contain all machines we added as key\n",
        "\n",
        "def generate_report(machines): #printing dictionary that will creat new report\n",
        "  for machine, users in machines.items(): #item method returns the key and values for each pair in dictionary\n",
        "    if len(users) > 0: #only print if set of users more then 0 \n",
        "      user_list = \", \".join(users)\n",
        "      print(\"{}: {}\".format(machine,user_list)) #printing loged in users using method join \n",
        "\n",
        "class Event:\n",
        "  def __init__(self, event_date, event_type, machine_name, user):\n",
        "    self.date = event_date  #cnstructors using define events\n",
        "    self.type = event_type\n",
        "    self.machine = machine_name\n",
        "    self.user = user\n",
        "\n",
        "events = [\n",
        "    Event('2020-01-21 12:45:56', 'login', 'myworkstation.local', 'jordan'),\n",
        "    Event('2020-01-22 15:53:42', 'logout', 'webserver.local', 'jordan'),\n",
        "    Event('2020-01-21 18:53:21', 'login', 'webserver.local', 'lane'),\n",
        "    Event('2020-01-22 10:25:34', 'logout', 'myworkstation.local', 'jordan'),\n",
        "    Event('2020-01-21 08:20:01', 'login', 'webserver.local', 'jordan'),\n",
        "    Event('2020-01-23 11:24:35', 'login', 'mailserver.local', 'chris'),\n",
        "]   #event log \n",
        "\n",
        "users = current_users(events)\n",
        "print(users)  #shows current logined user \n",
        "\n",
        "generate_report(users) #genrates report of user are currently logg in\n"
      ],
      "execution_count": 3,
      "outputs": [
        {
          "output_type": "stream",
          "text": [
            "{'webserver.local': {'lane'}, 'myworkstation.local': set(), 'mailserver.local': {'chris'}}\n",
            "webserver.local: lane\n",
            "mailserver.local: chris\n"
          ],
          "name": "stdout"
        }
      ]
    }
  ]
}